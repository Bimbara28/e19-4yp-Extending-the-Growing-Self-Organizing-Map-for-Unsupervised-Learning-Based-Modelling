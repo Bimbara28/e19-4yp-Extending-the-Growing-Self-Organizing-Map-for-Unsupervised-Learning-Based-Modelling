{
 "cells": [
  {
   "cell_type": "code",
   "execution_count": 1,
   "id": "d40bcb5f",
   "metadata": {},
   "outputs": [
    {
     "name": "stdout",
     "output_type": "stream",
     "text": [
      "✅ Merged dataset saved as: GSE5281_merged_expression_metadata.csv\n"
     ]
    }
   ],
   "source": [
    "import pandas as pd\n",
    "\n",
    "# === Step 1: File Paths ===\n",
    "expression_csv_path = \"GSE5281_normalized_gene_expression.csv\"  # Replace with your actual file name\n",
    "metadata_xlsx_path = \"GSE5281_sample_characteristics.xlsx\"\n",
    "\n",
    "# === Step 2: Load Metadata ===\n",
    "metadata_df = pd.read_excel(metadata_xlsx_path)\n",
    "metadata_df.columns = metadata_df.columns.str.strip()  # Remove trailing spaces\n",
    "metadata_df.rename(columns={\n",
    "    \"GEO Accession:\": \"Sample_ID\",\n",
    "    \"Organ Region:\": \"Brain_Region\",\n",
    "    \"Disease State:\": \"Disease_State\"\n",
    "}, inplace=True)\n",
    "metadata_df = metadata_df[[\"Sample_ID\", \"Brain_Region\", \"Disease_State\"]]\n",
    "\n",
    "# === Step 3: Load and Transpose Gene Expression Data ===\n",
    "expression_df = pd.read_csv(expression_csv_path, index_col=0)\n",
    "expression_df = expression_df.T\n",
    "expression_df.index.name = \"Sample_ID\"\n",
    "expression_df.reset_index(inplace=True)\n",
    "\n",
    "# === Step 4: Merge ===\n",
    "merged_df = pd.merge(metadata_df, expression_df, on=\"Sample_ID\")\n",
    "\n",
    "# === Step 5: Export Merged CSV ===\n",
    "output_path = \"GSE5281_merged_expression_metadata.csv\"\n",
    "merged_df.to_csv(output_path, index=False)\n",
    "\n",
    "print(f\"✅ Merged dataset saved as: {output_path}\")\n"
   ]
  }
 ],
 "metadata": {
  "kernelspec": {
   "display_name": "base",
   "language": "python",
   "name": "python3"
  },
  "language_info": {
   "codemirror_mode": {
    "name": "ipython",
    "version": 3
   },
   "file_extension": ".py",
   "mimetype": "text/x-python",
   "name": "python",
   "nbconvert_exporter": "python",
   "pygments_lexer": "ipython3",
   "version": "3.11.7"
  }
 },
 "nbformat": 4,
 "nbformat_minor": 5
}
